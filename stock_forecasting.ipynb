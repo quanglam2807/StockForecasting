{
  "nbformat": 4,
  "nbformat_minor": 0,
  "metadata": {
    "colab": {
      "name": "Copy of Stock Forecasting.ipynb",
      "version": "0.3.2",
      "provenance": []
    },
    "kernelspec": {
      "display_name": "Python 3",
      "language": "python",
      "name": "python3"
    }
  },
  "cells": [
    {
      "metadata": {
        "id": "cYHddpw4y4Vw",
        "colab_type": "code",
        "outputId": "18a78c61-0e89-43bb-d2fd-9ea20bc2acfb",
        "colab": {
          "base_uri": "https://localhost:8080/",
          "height": 1465
        }
      },
      "cell_type": "code",
      "source": [
        "!pip install --upgrade pandas\n",
        "!pip install --upgrade numpy\n",
        "!pip install fastai==0.7.0"
      ],
      "execution_count": 47,
      "outputs": [
        {
          "output_type": "stream",
          "text": [
            "Requirement already up-to-date: pandas in /usr/local/lib/python3.6/dist-packages (0.24.2)\n",
            "Requirement already satisfied, skipping upgrade: pytz>=2011k in /usr/local/lib/python3.6/dist-packages (from pandas) (2018.9)\n",
            "Requirement already satisfied, skipping upgrade: numpy>=1.12.0 in /usr/local/lib/python3.6/dist-packages (from pandas) (1.16.2)\n",
            "Requirement already satisfied, skipping upgrade: python-dateutil>=2.5.0 in /usr/local/lib/python3.6/dist-packages (from pandas) (2.5.3)\n",
            "Requirement already satisfied, skipping upgrade: six>=1.5 in /usr/local/lib/python3.6/dist-packages (from python-dateutil>=2.5.0->pandas) (1.11.0)\n",
            "Requirement already up-to-date: numpy in /usr/local/lib/python3.6/dist-packages (1.16.2)\n",
            "Requirement already satisfied: fastai==0.7.0 in /usr/local/lib/python3.6/dist-packages (0.7.0)\n",
            "Requirement already satisfied: html5lib in /usr/local/lib/python3.6/dist-packages (from fastai==0.7.0) (1.0.1)\n",
            "Requirement already satisfied: ipywidgets in /usr/local/lib/python3.6/dist-packages (from fastai==0.7.0) (7.4.2)\n",
            "Requirement already satisfied: jupyter in /usr/local/lib/python3.6/dist-packages (from fastai==0.7.0) (1.0.0)\n",
            "Requirement already satisfied: Pillow in /usr/local/lib/python3.6/dist-packages (from fastai==0.7.0) (4.1.1)\n",
            "Requirement already satisfied: opencv-python in /usr/local/lib/python3.6/dist-packages (from fastai==0.7.0) (3.4.5.20)\n",
            "Requirement already satisfied: tqdm in /usr/local/lib/python3.6/dist-packages (from fastai==0.7.0) (4.28.1)\n",
            "Requirement already satisfied: Jinja2 in /usr/local/lib/python3.6/dist-packages (from fastai==0.7.0) (2.10)\n",
            "Requirement already satisfied: PyYAML in /usr/local/lib/python3.6/dist-packages (from fastai==0.7.0) (3.13)\n",
            "Requirement already satisfied: testpath in /usr/local/lib/python3.6/dist-packages (from fastai==0.7.0) (0.4.2)\n",
            "Requirement already satisfied: pandas-summary in /usr/local/lib/python3.6/dist-packages (from fastai==0.7.0) (0.0.6)\n",
            "Requirement already satisfied: python-dateutil in /usr/local/lib/python3.6/dist-packages (from fastai==0.7.0) (2.5.3)\n",
            "Requirement already satisfied: pandas in /usr/local/lib/python3.6/dist-packages (from fastai==0.7.0) (0.24.2)\n",
            "Requirement already satisfied: widgetsnbextension in /usr/local/lib/python3.6/dist-packages (from fastai==0.7.0) (3.4.2)\n",
            "Requirement already satisfied: webencodings in /usr/local/lib/python3.6/dist-packages (from fastai==0.7.0) (0.5.1)\n",
            "Requirement already satisfied: entrypoints in /usr/local/lib/python3.6/dist-packages (from fastai==0.7.0) (0.3)\n",
            "Requirement already satisfied: matplotlib in /usr/local/lib/python3.6/dist-packages (from fastai==0.7.0) (3.0.3)\n",
            "Requirement already satisfied: decorator in /usr/local/lib/python3.6/dist-packages (from fastai==0.7.0) (4.4.0)\n",
            "Requirement already satisfied: seaborn in /usr/local/lib/python3.6/dist-packages (from fastai==0.7.0) (0.7.1)\n",
            "Requirement already satisfied: cycler in /usr/local/lib/python3.6/dist-packages (from fastai==0.7.0) (0.10.0)\n",
            "Requirement already satisfied: jsonschema in /usr/local/lib/python3.6/dist-packages (from fastai==0.7.0) (2.6.0)\n",
            "Requirement already satisfied: pytz in /usr/local/lib/python3.6/dist-packages (from fastai==0.7.0) (2018.9)\n",
            "Requirement already satisfied: scipy in /usr/local/lib/python3.6/dist-packages (from fastai==0.7.0) (1.1.0)\n",
            "Requirement already satisfied: numpy in /usr/local/lib/python3.6/dist-packages (from fastai==0.7.0) (1.16.2)\n",
            "Requirement already satisfied: sklearn-pandas in /usr/local/lib/python3.6/dist-packages (from fastai==0.7.0) (1.8.0)\n",
            "Requirement already satisfied: graphviz in /usr/local/lib/python3.6/dist-packages (from fastai==0.7.0) (0.10.1)\n",
            "Requirement already satisfied: traitlets in /usr/local/lib/python3.6/dist-packages (from fastai==0.7.0) (4.3.2)\n",
            "Requirement already satisfied: Pygments in /usr/local/lib/python3.6/dist-packages (from fastai==0.7.0) (2.1.3)\n",
            "Requirement already satisfied: isoweek in /usr/local/lib/python3.6/dist-packages (from fastai==0.7.0) (1.3.3)\n",
            "Requirement already satisfied: certifi in /usr/local/lib/python3.6/dist-packages (from fastai==0.7.0) (2019.3.9)\n",
            "Requirement already satisfied: bleach in /usr/local/lib/python3.6/dist-packages (from fastai==0.7.0) (3.1.0)\n",
            "Requirement already satisfied: torchtext in /usr/local/lib/python3.6/dist-packages (from fastai==0.7.0) (0.3.1)\n",
            "Requirement already satisfied: tornado in /usr/local/lib/python3.6/dist-packages (from fastai==0.7.0) (4.5.3)\n",
            "Requirement already satisfied: simplegeneric in /usr/local/lib/python3.6/dist-packages (from fastai==0.7.0) (0.8.1)\n",
            "Requirement already satisfied: torchvision in /usr/local/lib/python3.6/dist-packages (from fastai==0.7.0) (0.2.2.post3)\n",
            "Requirement already satisfied: pyzmq in /usr/local/lib/python3.6/dist-packages (from fastai==0.7.0) (17.0.0)\n",
            "Requirement already satisfied: ipython-genutils in /usr/local/lib/python3.6/dist-packages (from fastai==0.7.0) (0.2.0)\n",
            "Requirement already satisfied: plotnine in /usr/local/lib/python3.6/dist-packages (from fastai==0.7.0) (0.5.1)\n",
            "Requirement already satisfied: wcwidth in /usr/local/lib/python3.6/dist-packages (from fastai==0.7.0) (0.1.7)\n",
            "Requirement already satisfied: ipykernel in /usr/local/lib/python3.6/dist-packages (from fastai==0.7.0) (4.6.1)\n",
            "Requirement already satisfied: MarkupSafe in /usr/local/lib/python3.6/dist-packages (from fastai==0.7.0) (1.1.1)\n",
            "Requirement already satisfied: ptyprocess in /usr/local/lib/python3.6/dist-packages (from fastai==0.7.0) (0.6.0)\n",
            "Requirement already satisfied: feather-format in /usr/local/lib/python3.6/dist-packages (from fastai==0.7.0) (0.4.0)\n",
            "Requirement already satisfied: bcolz in /usr/local/lib/python3.6/dist-packages (from fastai==0.7.0) (1.2.1)\n",
            "Requirement already satisfied: torch<0.4 in /usr/local/lib/python3.6/dist-packages (from fastai==0.7.0) (0.3.1)\n",
            "Requirement already satisfied: pyparsing in /usr/local/lib/python3.6/dist-packages (from fastai==0.7.0) (2.3.1)\n",
            "Requirement already satisfied: ipython in /usr/local/lib/python3.6/dist-packages (from fastai==0.7.0) (5.5.0)\n",
            "Requirement already satisfied: pickleshare in /usr/local/lib/python3.6/dist-packages (from fastai==0.7.0) (0.7.5)\n",
            "Requirement already satisfied: jedi in /usr/local/lib/python3.6/dist-packages (from fastai==0.7.0) (0.13.3)\n",
            "Requirement already satisfied: six>=1.9 in /usr/local/lib/python3.6/dist-packages (from html5lib->fastai==0.7.0) (1.11.0)\n",
            "Requirement already satisfied: nbformat>=4.2.0 in /usr/local/lib/python3.6/dist-packages (from ipywidgets->fastai==0.7.0) (4.4.0)\n",
            "Requirement already satisfied: notebook in /usr/local/lib/python3.6/dist-packages (from jupyter->fastai==0.7.0) (5.2.2)\n",
            "Requirement already satisfied: jupyter-console in /usr/local/lib/python3.6/dist-packages (from jupyter->fastai==0.7.0) (6.0.0)\n",
            "Requirement already satisfied: nbconvert in /usr/local/lib/python3.6/dist-packages (from jupyter->fastai==0.7.0) (5.4.1)\n",
            "Requirement already satisfied: qtconsole in /usr/local/lib/python3.6/dist-packages (from jupyter->fastai==0.7.0) (4.4.3)\n",
            "Requirement already satisfied: olefile in /usr/local/lib/python3.6/dist-packages (from Pillow->fastai==0.7.0) (0.46)\n",
            "Requirement already satisfied: kiwisolver>=1.0.1 in /usr/local/lib/python3.6/dist-packages (from matplotlib->fastai==0.7.0) (1.0.1)\n",
            "Requirement already satisfied: scikit-learn>=0.15.0 in /usr/local/lib/python3.6/dist-packages (from sklearn-pandas->fastai==0.7.0) (0.20.3)\n",
            "Requirement already satisfied: requests in /usr/local/lib/python3.6/dist-packages (from torchtext->fastai==0.7.0) (2.18.4)\n",
            "Requirement already satisfied: descartes>=1.1.0 in /usr/local/lib/python3.6/dist-packages (from plotnine->fastai==0.7.0) (1.1.0)\n",
            "Requirement already satisfied: mizani>=0.5.2 in /usr/local/lib/python3.6/dist-packages (from plotnine->fastai==0.7.0) (0.5.4)\n",
            "Requirement already satisfied: patsy>=0.4.1 in /usr/local/lib/python3.6/dist-packages (from plotnine->fastai==0.7.0) (0.5.1)\n",
            "Requirement already satisfied: statsmodels>=0.8.0 in /usr/local/lib/python3.6/dist-packages (from plotnine->fastai==0.7.0) (0.8.0)\n",
            "Requirement already satisfied: jupyter-client in /usr/local/lib/python3.6/dist-packages (from ipykernel->fastai==0.7.0) (5.2.4)\n",
            "Requirement already satisfied: pyarrow>=0.4.0 in /usr/local/lib/python3.6/dist-packages (from feather-format->fastai==0.7.0) (0.13.0)\n",
            "Requirement already satisfied: prompt-toolkit<2.0.0,>=1.0.4 in /usr/local/lib/python3.6/dist-packages (from ipython->fastai==0.7.0) (1.0.15)\n",
            "Requirement already satisfied: setuptools>=18.5 in /usr/local/lib/python3.6/dist-packages (from ipython->fastai==0.7.0) (40.8.0)\n",
            "Requirement already satisfied: pexpect; sys_platform != \"win32\" in /usr/local/lib/python3.6/dist-packages (from ipython->fastai==0.7.0) (4.6.0)\n",
            "Requirement already satisfied: parso>=0.3.0 in /usr/local/lib/python3.6/dist-packages (from jedi->fastai==0.7.0) (0.3.4)\n",
            "Requirement already satisfied: jupyter-core in /usr/local/lib/python3.6/dist-packages (from nbformat>=4.2.0->ipywidgets->fastai==0.7.0) (4.4.0)\n",
            "Requirement already satisfied: terminado>=0.3.3; sys_platform != \"win32\" in /usr/local/lib/python3.6/dist-packages (from notebook->jupyter->fastai==0.7.0) (0.8.1)\n",
            "Requirement already satisfied: pandocfilters>=1.4.1 in /usr/local/lib/python3.6/dist-packages (from nbconvert->jupyter->fastai==0.7.0) (1.4.2)\n",
            "Requirement already satisfied: mistune>=0.8.1 in /usr/local/lib/python3.6/dist-packages (from nbconvert->jupyter->fastai==0.7.0) (0.8.4)\n",
            "Requirement already satisfied: defusedxml in /usr/local/lib/python3.6/dist-packages (from nbconvert->jupyter->fastai==0.7.0) (0.5.0)\n",
            "Requirement already satisfied: urllib3<1.23,>=1.21.1 in /usr/local/lib/python3.6/dist-packages (from requests->torchtext->fastai==0.7.0) (1.22)\n",
            "Requirement already satisfied: idna<2.7,>=2.5 in /usr/local/lib/python3.6/dist-packages (from requests->torchtext->fastai==0.7.0) (2.6)\n",
            "Requirement already satisfied: chardet<3.1.0,>=3.0.2 in /usr/local/lib/python3.6/dist-packages (from requests->torchtext->fastai==0.7.0) (3.0.4)\n",
            "Requirement already satisfied: palettable in /usr/local/lib/python3.6/dist-packages (from mizani>=0.5.2->plotnine->fastai==0.7.0) (3.1.1)\n"
          ],
          "name": "stdout"
        }
      ]
    },
    {
      "metadata": {
        "id": "MlGAgPlXxe0B",
        "colab_type": "text"
      },
      "cell_type": "markdown",
      "source": [
        "** DS-420 - Project **\n",
        "\n",
        "- Quang Lam\n",
        "- Thu Pham"
      ]
    },
    {
      "metadata": {
        "id": "8yZYIkaljMSd",
        "colab_type": "code",
        "colab": {}
      },
      "cell_type": "code",
      "source": [
        "# Import\n",
        "import matplotlib.pyplot as plt\n",
        "import pandas as pd\n",
        "import numpy as np\n",
        "from fastai.structured import add_datepart\n",
        "\n",
        "# Linear Regression\n",
        "from sklearn.linear_model import LinearRegression\n",
        "\n",
        "# k-Nearest Neighbors\n",
        "from sklearn import neighbors\n",
        "from sklearn.model_selection import GridSearchCV\n",
        "from sklearn.preprocessing import MinMaxScaler\n",
        "\n",
        "# Long-term Memory\n",
        "from sklearn.preprocessing import MinMaxScaler\n",
        "from keras.models import Sequential\n",
        "from keras.layers import Dense, Dropout, LSTM"
      ],
      "execution_count": 0,
      "outputs": []
    },
    {
      "metadata": {
        "id": "BFS617G_jMSh",
        "colab_type": "text"
      },
      "cell_type": "markdown",
      "source": [
        "# Data Initialization"
      ]
    },
    {
      "metadata": {
        "id": "llajHuSrjMSv",
        "colab_type": "code",
        "colab": {}
      },
      "cell_type": "code",
      "source": [
        "# Config\n",
        "symbl = 'MSFT'\n",
        "apiKey = 'DG33STQB6CAUHK3B'\n",
        "\n",
        "# Fetch Historical Data\n",
        "df = pd.read_csv('https://www.alphavantage.co/query?datatype=csv&function=TIME_SERIES_WEEKLY&symbol=' + symbl + '&outputsize=compact&apikey=' + apiKey)\n",
        "\n",
        "# Setting index as date\n",
        "df['timestamp'] = pd.to_datetime(df.timestamp, format='%Y-%m-%d')\n",
        "df.index = df['timestamp']"
      ],
      "execution_count": 0,
      "outputs": []
    },
    {
      "metadata": {
        "id": "G0xqfsSgjMTC",
        "colab_type": "text"
      },
      "cell_type": "markdown",
      "source": [
        "# Data Overview"
      ]
    },
    {
      "metadata": {
        "id": "_PqfMfQijMS4",
        "colab_type": "code",
        "colab": {
          "base_uri": "https://localhost:8080/",
          "height": 297
        },
        "outputId": "388919fc-238d-441d-d708-53a360641aa8"
      },
      "cell_type": "code",
      "source": [
        "# Get general statistics\n",
        "df.describe()"
      ],
      "execution_count": 50,
      "outputs": [
        {
          "output_type": "execute_result",
          "data": {
            "text/html": [
              "<div>\n",
              "<style scoped>\n",
              "    .dataframe tbody tr th:only-of-type {\n",
              "        vertical-align: middle;\n",
              "    }\n",
              "\n",
              "    .dataframe tbody tr th {\n",
              "        vertical-align: top;\n",
              "    }\n",
              "\n",
              "    .dataframe thead th {\n",
              "        text-align: right;\n",
              "    }\n",
              "</style>\n",
              "<table border=\"1\" class=\"dataframe\">\n",
              "  <thead>\n",
              "    <tr style=\"text-align: right;\">\n",
              "      <th></th>\n",
              "      <th>open</th>\n",
              "      <th>high</th>\n",
              "      <th>low</th>\n",
              "      <th>close</th>\n",
              "      <th>volume</th>\n",
              "    </tr>\n",
              "  </thead>\n",
              "  <tbody>\n",
              "    <tr>\n",
              "      <th>count</th>\n",
              "      <td>1109.00000</td>\n",
              "      <td>1109.000000</td>\n",
              "      <td>1109.000000</td>\n",
              "      <td>1109.000000</td>\n",
              "      <td>1.109000e+03</td>\n",
              "    </tr>\n",
              "    <tr>\n",
              "      <th>mean</th>\n",
              "      <td>49.63532</td>\n",
              "      <td>51.147858</td>\n",
              "      <td>48.233323</td>\n",
              "      <td>49.816130</td>\n",
              "      <td>2.280722e+08</td>\n",
              "    </tr>\n",
              "    <tr>\n",
              "      <th>std</th>\n",
              "      <td>29.84560</td>\n",
              "      <td>31.002752</td>\n",
              "      <td>28.806366</td>\n",
              "      <td>30.150289</td>\n",
              "      <td>1.169885e+08</td>\n",
              "    </tr>\n",
              "    <tr>\n",
              "      <th>min</th>\n",
              "      <td>15.20000</td>\n",
              "      <td>16.400000</td>\n",
              "      <td>14.870000</td>\n",
              "      <td>15.280000</td>\n",
              "      <td>1.984389e+07</td>\n",
              "    </tr>\n",
              "    <tr>\n",
              "      <th>25%</th>\n",
              "      <td>27.06000</td>\n",
              "      <td>27.620000</td>\n",
              "      <td>26.600000</td>\n",
              "      <td>27.140000</td>\n",
              "      <td>1.405655e+08</td>\n",
              "    </tr>\n",
              "    <tr>\n",
              "      <th>50%</th>\n",
              "      <td>35.59000</td>\n",
              "      <td>36.290000</td>\n",
              "      <td>34.350000</td>\n",
              "      <td>35.670000</td>\n",
              "      <td>2.116416e+08</td>\n",
              "    </tr>\n",
              "    <tr>\n",
              "      <th>75%</th>\n",
              "      <td>64.99000</td>\n",
              "      <td>66.350000</td>\n",
              "      <td>63.480000</td>\n",
              "      <td>64.980000</td>\n",
              "      <td>2.956390e+08</td>\n",
              "    </tr>\n",
              "    <tr>\n",
              "      <th>max</th>\n",
              "      <td>175.44000</td>\n",
              "      <td>180.380000</td>\n",
              "      <td>163.130000</td>\n",
              "      <td>178.130000</td>\n",
              "      <td>8.797232e+08</td>\n",
              "    </tr>\n",
              "  </tbody>\n",
              "</table>\n",
              "</div>"
            ],
            "text/plain": [
              "             open         high          low        close        volume\n",
              "count  1109.00000  1109.000000  1109.000000  1109.000000  1.109000e+03\n",
              "mean     49.63532    51.147858    48.233323    49.816130  2.280722e+08\n",
              "std      29.84560    31.002752    28.806366    30.150289  1.169885e+08\n",
              "min      15.20000    16.400000    14.870000    15.280000  1.984389e+07\n",
              "25%      27.06000    27.620000    26.600000    27.140000  1.405655e+08\n",
              "50%      35.59000    36.290000    34.350000    35.670000  2.116416e+08\n",
              "75%      64.99000    66.350000    63.480000    64.980000  2.956390e+08\n",
              "max     175.44000   180.380000   163.130000   178.130000  8.797232e+08"
            ]
          },
          "metadata": {
            "tags": []
          },
          "execution_count": 50
        }
      ]
    },
    {
      "metadata": {
        "id": "TMBJPU2DjMS7",
        "colab_type": "code",
        "colab": {
          "base_uri": "https://localhost:8080/",
          "height": 136
        },
        "outputId": "c95f7674-47be-4bf7-adcc-bc20d4e67378"
      },
      "cell_type": "code",
      "source": [
        "# Get data types\n",
        "df.dtypes"
      ],
      "execution_count": 51,
      "outputs": [
        {
          "output_type": "execute_result",
          "data": {
            "text/plain": [
              "timestamp    datetime64[ns]\n",
              "open                float64\n",
              "high                float64\n",
              "low                 float64\n",
              "close               float64\n",
              "volume                int64\n",
              "dtype: object"
            ]
          },
          "metadata": {
            "tags": []
          },
          "execution_count": 51
        }
      ]
    },
    {
      "metadata": {
        "id": "3CQCDyJ_qoBT",
        "colab_type": "code",
        "colab": {
          "base_uri": "https://localhost:8080/",
          "height": 390
        },
        "outputId": "11e751c0-9298-4f78-db1a-e140a8db543a"
      },
      "cell_type": "code",
      "source": [
        "# Check top 10 rows\n",
        "df.head(10)"
      ],
      "execution_count": 52,
      "outputs": [
        {
          "output_type": "execute_result",
          "data": {
            "text/html": [
              "<div>\n",
              "<style scoped>\n",
              "    .dataframe tbody tr th:only-of-type {\n",
              "        vertical-align: middle;\n",
              "    }\n",
              "\n",
              "    .dataframe tbody tr th {\n",
              "        vertical-align: top;\n",
              "    }\n",
              "\n",
              "    .dataframe thead th {\n",
              "        text-align: right;\n",
              "    }\n",
              "</style>\n",
              "<table border=\"1\" class=\"dataframe\">\n",
              "  <thead>\n",
              "    <tr style=\"text-align: right;\">\n",
              "      <th></th>\n",
              "      <th>timestamp</th>\n",
              "      <th>open</th>\n",
              "      <th>high</th>\n",
              "      <th>low</th>\n",
              "      <th>close</th>\n",
              "      <th>volume</th>\n",
              "    </tr>\n",
              "    <tr>\n",
              "      <th>timestamp</th>\n",
              "      <th></th>\n",
              "      <th></th>\n",
              "      <th></th>\n",
              "      <th></th>\n",
              "      <th></th>\n",
              "      <th></th>\n",
              "    </tr>\n",
              "  </thead>\n",
              "  <tbody>\n",
              "    <tr>\n",
              "      <th>2019-04-01</th>\n",
              "      <td>2019-04-01</td>\n",
              "      <td>118.95</td>\n",
              "      <td>119.1085</td>\n",
              "      <td>118.1000</td>\n",
              "      <td>119.02</td>\n",
              "      <td>19843893</td>\n",
              "    </tr>\n",
              "    <tr>\n",
              "      <th>2019-03-29</th>\n",
              "      <td>2019-03-29</td>\n",
              "      <td>116.56</td>\n",
              "      <td>118.7050</td>\n",
              "      <td>115.5215</td>\n",
              "      <td>117.94</td>\n",
              "      <td>119632716</td>\n",
              "    </tr>\n",
              "    <tr>\n",
              "      <th>2019-03-22</th>\n",
              "      <td>2019-03-22</td>\n",
              "      <td>116.17</td>\n",
              "      <td>120.8200</td>\n",
              "      <td>116.0500</td>\n",
              "      <td>117.05</td>\n",
              "      <td>160388610</td>\n",
              "    </tr>\n",
              "    <tr>\n",
              "      <th>2019-03-15</th>\n",
              "      <td>2019-03-15</td>\n",
              "      <td>110.99</td>\n",
              "      <td>117.2500</td>\n",
              "      <td>110.9800</td>\n",
              "      <td>115.91</td>\n",
              "      <td>173532134</td>\n",
              "    </tr>\n",
              "    <tr>\n",
              "      <th>2019-03-08</th>\n",
              "      <td>2019-03-08</td>\n",
              "      <td>113.02</td>\n",
              "      <td>113.2500</td>\n",
              "      <td>108.8000</td>\n",
              "      <td>110.51</td>\n",
              "      <td>111990712</td>\n",
              "    </tr>\n",
              "    <tr>\n",
              "      <th>2019-03-01</th>\n",
              "      <td>2019-03-01</td>\n",
              "      <td>111.76</td>\n",
              "      <td>113.2400</td>\n",
              "      <td>110.8800</td>\n",
              "      <td>112.53</td>\n",
              "      <td>119359497</td>\n",
              "    </tr>\n",
              "    <tr>\n",
              "      <th>2019-02-22</th>\n",
              "      <td>2019-02-22</td>\n",
              "      <td>107.79</td>\n",
              "      <td>111.2000</td>\n",
              "      <td>106.2900</td>\n",
              "      <td>110.97</td>\n",
              "      <td>96472580</td>\n",
              "    </tr>\n",
              "    <tr>\n",
              "      <th>2019-02-15</th>\n",
              "      <td>2019-02-15</td>\n",
              "      <td>106.20</td>\n",
              "      <td>108.3000</td>\n",
              "      <td>104.9650</td>\n",
              "      <td>108.22</td>\n",
              "      <td>110757176</td>\n",
              "    </tr>\n",
              "    <tr>\n",
              "      <th>2019-02-08</th>\n",
              "      <td>2019-02-08</td>\n",
              "      <td>102.87</td>\n",
              "      <td>107.2700</td>\n",
              "      <td>102.7700</td>\n",
              "      <td>105.67</td>\n",
              "      <td>130472196</td>\n",
              "    </tr>\n",
              "    <tr>\n",
              "      <th>2019-02-01</th>\n",
              "      <td>2019-02-01</td>\n",
              "      <td>106.26</td>\n",
              "      <td>106.4800</td>\n",
              "      <td>102.1700</td>\n",
              "      <td>102.78</td>\n",
              "      <td>201611213</td>\n",
              "    </tr>\n",
              "  </tbody>\n",
              "</table>\n",
              "</div>"
            ],
            "text/plain": [
              "            timestamp    open      high       low   close     volume\n",
              "timestamp                                                           \n",
              "2019-04-01 2019-04-01  118.95  119.1085  118.1000  119.02   19843893\n",
              "2019-03-29 2019-03-29  116.56  118.7050  115.5215  117.94  119632716\n",
              "2019-03-22 2019-03-22  116.17  120.8200  116.0500  117.05  160388610\n",
              "2019-03-15 2019-03-15  110.99  117.2500  110.9800  115.91  173532134\n",
              "2019-03-08 2019-03-08  113.02  113.2500  108.8000  110.51  111990712\n",
              "2019-03-01 2019-03-01  111.76  113.2400  110.8800  112.53  119359497\n",
              "2019-02-22 2019-02-22  107.79  111.2000  106.2900  110.97   96472580\n",
              "2019-02-15 2019-02-15  106.20  108.3000  104.9650  108.22  110757176\n",
              "2019-02-08 2019-02-08  102.87  107.2700  102.7700  105.67  130472196\n",
              "2019-02-01 2019-02-01  106.26  106.4800  102.1700  102.78  201611213"
            ]
          },
          "metadata": {
            "tags": []
          },
          "execution_count": 52
        }
      ]
    },
    {
      "metadata": {
        "id": "vDXdAvsIjMTG",
        "colab_type": "code",
        "colab": {
          "base_uri": "https://localhost:8080/",
          "height": 500
        },
        "outputId": "152c0451-931e-4d32-ff16-7a6addfa6610"
      },
      "cell_type": "code",
      "source": [
        "# Plotting closing price\n",
        "plt.figure(figsize=(16,8))\n",
        "plt.plot(df['close'])"
      ],
      "execution_count": 53,
      "outputs": [
        {
          "output_type": "execute_result",
          "data": {
            "text/plain": [
              "[<matplotlib.lines.Line2D at 0x7f865224ca20>]"
            ]
          },
          "metadata": {
            "tags": []
          },
          "execution_count": 53
        },
        {
          "output_type": "display_data",
          "data": {
            "image/png": "[encoded data removed]",
            "text/plain": [
              "<Figure size 1152x576 with 1 Axes>"
            ]
          },
          "metadata": {
            "tags": []
          }
        }
      ]
    },
    {
      "metadata": {
        "id": "qTdacIM7jMS0",
        "colab_type": "code",
        "colab": {
          "base_uri": "https://localhost:8080/",
          "height": 390
        },
        "outputId": "15e3fdff-b166-435a-de97-0b5b9b7f022e"
      },
      "cell_type": "code",
      "source": [
        "# Check last 10 rows\n",
        "df.tail(10)"
      ],
      "execution_count": 54,
      "outputs": [
        {
          "output_type": "execute_result",
          "data": {
            "text/html": [
              "<div>\n",
              "<style scoped>\n",
              "    .dataframe tbody tr th:only-of-type {\n",
              "        vertical-align: middle;\n",
              "    }\n",
              "\n",
              "    .dataframe tbody tr th {\n",
              "        vertical-align: top;\n",
              "    }\n",
              "\n",
              "    .dataframe thead th {\n",
              "        text-align: right;\n",
              "    }\n",
              "</style>\n",
              "<table border=\"1\" class=\"dataframe\">\n",
              "  <thead>\n",
              "    <tr style=\"text-align: right;\">\n",
              "      <th></th>\n",
              "      <th>timestamp</th>\n",
              "      <th>open</th>\n",
              "      <th>high</th>\n",
              "      <th>low</th>\n",
              "      <th>close</th>\n",
              "      <th>volume</th>\n",
              "    </tr>\n",
              "    <tr>\n",
              "      <th>timestamp</th>\n",
              "      <th></th>\n",
              "      <th></th>\n",
              "      <th></th>\n",
              "      <th></th>\n",
              "      <th></th>\n",
              "      <th></th>\n",
              "    </tr>\n",
              "  </thead>\n",
              "  <tbody>\n",
              "    <tr>\n",
              "      <th>1998-03-13</th>\n",
              "      <td>1998-03-13</td>\n",
              "      <td>82.50</td>\n",
              "      <td>83.00</td>\n",
              "      <td>79.50</td>\n",
              "      <td>82.37</td>\n",
              "      <td>55001400</td>\n",
              "    </tr>\n",
              "    <tr>\n",
              "      <th>1998-03-06</th>\n",
              "      <td>1998-03-06</td>\n",
              "      <td>85.87</td>\n",
              "      <td>85.87</td>\n",
              "      <td>79.25</td>\n",
              "      <td>82.75</td>\n",
              "      <td>79005300</td>\n",
              "    </tr>\n",
              "    <tr>\n",
              "      <th>1998-02-27</th>\n",
              "      <td>1998-02-27</td>\n",
              "      <td>80.94</td>\n",
              "      <td>86.00</td>\n",
              "      <td>79.37</td>\n",
              "      <td>84.75</td>\n",
              "      <td>95642150</td>\n",
              "    </tr>\n",
              "    <tr>\n",
              "      <th>1998-02-20</th>\n",
              "      <td>1998-02-20</td>\n",
              "      <td>158.50</td>\n",
              "      <td>158.50</td>\n",
              "      <td>152.88</td>\n",
              "      <td>155.13</td>\n",
              "      <td>40268500</td>\n",
              "    </tr>\n",
              "    <tr>\n",
              "      <th>1998-02-13</th>\n",
              "      <td>1998-02-13</td>\n",
              "      <td>158.75</td>\n",
              "      <td>160.06</td>\n",
              "      <td>155.63</td>\n",
              "      <td>157.50</td>\n",
              "      <td>37262800</td>\n",
              "    </tr>\n",
              "    <tr>\n",
              "      <th>1998-02-06</th>\n",
              "      <td>1998-02-06</td>\n",
              "      <td>151.75</td>\n",
              "      <td>158.75</td>\n",
              "      <td>150.50</td>\n",
              "      <td>158.13</td>\n",
              "      <td>42349700</td>\n",
              "    </tr>\n",
              "    <tr>\n",
              "      <th>1998-01-30</th>\n",
              "      <td>1998-01-30</td>\n",
              "      <td>139.88</td>\n",
              "      <td>150.13</td>\n",
              "      <td>138.45</td>\n",
              "      <td>149.19</td>\n",
              "      <td>46856000</td>\n",
              "    </tr>\n",
              "    <tr>\n",
              "      <th>1998-01-23</th>\n",
              "      <td>1998-01-23</td>\n",
              "      <td>134.13</td>\n",
              "      <td>139.88</td>\n",
              "      <td>134.00</td>\n",
              "      <td>138.25</td>\n",
              "      <td>46621800</td>\n",
              "    </tr>\n",
              "    <tr>\n",
              "      <th>1998-01-16</th>\n",
              "      <td>1998-01-16</td>\n",
              "      <td>124.62</td>\n",
              "      <td>135.38</td>\n",
              "      <td>124.37</td>\n",
              "      <td>135.25</td>\n",
              "      <td>40459900</td>\n",
              "    </tr>\n",
              "    <tr>\n",
              "      <th>1998-01-09</th>\n",
              "      <td>1998-01-09</td>\n",
              "      <td>131.25</td>\n",
              "      <td>133.63</td>\n",
              "      <td>125.87</td>\n",
              "      <td>127.00</td>\n",
              "      <td>46857300</td>\n",
              "    </tr>\n",
              "  </tbody>\n",
              "</table>\n",
              "</div>"
            ],
            "text/plain": [
              "            timestamp    open    high     low   close    volume\n",
              "timestamp                                                      \n",
              "1998-03-13 1998-03-13   82.50   83.00   79.50   82.37  55001400\n",
              "1998-03-06 1998-03-06   85.87   85.87   79.25   82.75  79005300\n",
              "1998-02-27 1998-02-27   80.94   86.00   79.37   84.75  95642150\n",
              "1998-02-20 1998-02-20  158.50  158.50  152.88  155.13  40268500\n",
              "1998-02-13 1998-02-13  158.75  160.06  155.63  157.50  37262800\n",
              "1998-02-06 1998-02-06  151.75  158.75  150.50  158.13  42349700\n",
              "1998-01-30 1998-01-30  139.88  150.13  138.45  149.19  46856000\n",
              "1998-01-23 1998-01-23  134.13  139.88  134.00  138.25  46621800\n",
              "1998-01-16 1998-01-16  124.62  135.38  124.37  135.25  40459900\n",
              "1998-01-09 1998-01-09  131.25  133.63  125.87  127.00  46857300"
            ]
          },
          "metadata": {
            "tags": []
          },
          "execution_count": 54
        }
      ]
    },
    {
      "metadata": {
        "id": "8ZqVlsg0jMTO",
        "colab_type": "code",
        "colab": {
          "base_uri": "https://localhost:8080/",
          "height": 358
        },
        "outputId": "c0302156-3d30-4abf-999f-18389b6a34b4"
      },
      "cell_type": "code",
      "source": [
        "# Plotting price movement\n",
        "df.plot(kind = \"line\", y = ['open', 'high', 'low','close'])"
      ],
      "execution_count": 55,
      "outputs": [
        {
          "output_type": "execute_result",
          "data": {
            "text/plain": [
              "<matplotlib.axes._subplots.AxesSubplot at 0x7f8649f7ac88>"
            ]
          },
          "metadata": {
            "tags": []
          },
          "execution_count": 55
        },
        {
          "output_type": "display_data",
          "data": {
            "image/png": "[encoded data removed]",
            "text/plain": [
              "<Figure size 576x396 with 1 Axes>"
            ]
          },
          "metadata": {
            "tags": []
          }
        }
      ]
    },
    {
      "metadata": {
        "id": "03sXxvPJjMUA",
        "colab_type": "text"
      },
      "cell_type": "markdown",
      "source": [
        "## Linear Regression"
      ]
    },
    {
      "metadata": {
        "id": "gn4Oc8ZarGgo",
        "colab_type": "code",
        "colab": {}
      },
      "cell_type": "code",
      "source": [
        "# PREPARE TRAIN SET & TEST SET\n",
        "\n",
        "# Remove other rows, keep only timestamp and close\n",
        "data = df.sort_index(ascending=True, axis=0)\n",
        "new_data = pd.DataFrame(index=range(0, len(data)), columns=['timestamp', 'close'])\n",
        "\n",
        "for i in range(0, len(data)):\n",
        "  new_data['timestamp'][i] = data['timestamp'][i]\n",
        "  new_data['close'][i] = data['close'][i]\n",
        "  \n",
        "new_data['timestamp'] = pd.to_datetime(new_data['timestamp'], format='%Y-%m-%d')\n",
        "new_data.index = new_data['timestamp']\n",
        "add_datepart(new_data, 'timestamp')\n",
        "  \n",
        "# Split dataset into test and train portion\n",
        "# 80% to train, 20% to test\n",
        "train_set_size = int(len(new_data) * 0.8)\n",
        "train_set = new_data[:train_set_size]\n",
        "test_set = new_data[train_set_size:]\n",
        "\n",
        "x_train = train_set.drop('close', axis=1)\n",
        "y_train = train_set['close']\n",
        "x_test = test_set.drop('close', axis=1)\n",
        "y_test = test_set['close']"
      ],
      "execution_count": 0,
      "outputs": []
    },
    {
      "metadata": {
        "id": "3wTeeziQjMUB",
        "colab_type": "code",
        "colab": {
          "base_uri": "https://localhost:8080/",
          "height": 51
        },
        "outputId": "aba626cc-0c09-4702-d707-383ab98c12d9"
      },
      "cell_type": "code",
      "source": [
        "# Implement linear regression\n",
        "linear_model = LinearRegression()\n",
        "linear_model.fit(x_train, y_train)"
      ],
      "execution_count": 57,
      "outputs": [
        {
          "output_type": "execute_result",
          "data": {
            "text/plain": [
              "LinearRegression(copy_X=True, fit_intercept=True, n_jobs=None,\n",
              "         normalize=False)"
            ]
          },
          "metadata": {
            "tags": []
          },
          "execution_count": 57
        }
      ]
    },
    {
      "metadata": {
        "id": "MZ0ISpQEx8VG",
        "colab_type": "code",
        "colab": {
          "base_uri": "https://localhost:8080/",
          "height": 34
        },
        "outputId": "32eba40c-0bf7-4a9a-c324-802ef1fb24f3"
      },
      "cell_type": "code",
      "source": [
        "# Make predictions and find the rmse\n",
        "preds = linear_model.predict(x_test)\n",
        "rms = np.sqrt(np.mean(np.power((np.array(y_test)-np.array(preds)),2)))\n",
        "rms"
      ],
      "execution_count": 58,
      "outputs": [
        {
          "output_type": "execute_result",
          "data": {
            "text/plain": [
              "74.6920290190791"
            ]
          },
          "metadata": {
            "tags": []
          },
          "execution_count": 58
        }
      ]
    },
    {
      "metadata": {
        "id": "Rphn_b4ryAA7",
        "colab_type": "code",
        "colab": {
          "base_uri": "https://localhost:8080/",
          "height": 381
        },
        "outputId": "b08ce2c4-4c7a-4a43-bec1-0193ea8bd9e2"
      },
      "cell_type": "code",
      "source": [
        "# Plot linear regression results\n",
        "predicted_set = test_set.copy()\n",
        "predicted_set['predictions'] = preds\n",
        "\n",
        "plt.plot(train_set['close'])\n",
        "plt.plot(predicted_set[['close', 'predictions']])"
      ],
      "execution_count": 59,
      "outputs": [
        {
          "output_type": "execute_result",
          "data": {
            "text/plain": [
              "[<matplotlib.lines.Line2D at 0x7f8649e8d438>,\n",
              " <matplotlib.lines.Line2D at 0x7f8649e8d630>]"
            ]
          },
          "metadata": {
            "tags": []
          },
          "execution_count": 59
        },
        {
          "output_type": "display_data",
          "data": {
            "image/png": "[encoded data removed]",
            "text/plain": [
              "<Figure size 576x396 with 1 Axes>"
            ]
          },
          "metadata": {
            "tags": []
          }
        }
      ]
    },
    {
      "metadata": {
        "id": "XwnDROwYjrUZ",
        "colab_type": "text"
      },
      "cell_type": "markdown",
      "source": [
        "## k-Nearest Neighbours"
      ]
    },
    {
      "metadata": {
        "id": "HxRLDnS43C5k",
        "colab_type": "code",
        "colab": {}
      },
      "cell_type": "code",
      "source": [
        "# PREPARE TRAIN SET & TEST SET\n",
        "\n",
        "# Remove other rows, keep only timestamp and close\n",
        "data = df.sort_index(ascending=True, axis=0)\n",
        "new_data = pd.DataFrame(index=range(0, len(data)), columns=['timestamp', 'close'])\n",
        "\n",
        "for i in range(0, len(data)):\n",
        "  new_data['timestamp'][i] = data['timestamp'][i]\n",
        "  new_data['close'][i] = data['close'][i]\n",
        "  \n",
        "new_data['timestamp'] = pd.to_datetime(new_data['timestamp'], format='%Y-%m-%d')\n",
        "new_data.index = new_data['timestamp']\n",
        "add_datepart(new_data, 'timestamp')\n",
        "  \n",
        "# Split dataset into test and train portion\n",
        "# 80% to train, 20% to test\n",
        "train_set_size = int(len(new_data) * 0.8)\n",
        "train_set = new_data[:train_set_size]\n",
        "test_set = new_data[train_set_size:]\n",
        "\n",
        "x_train = train_set.drop('close', axis=1)\n",
        "y_train = train_set['close']\n",
        "x_test = test_set.drop('close', axis=1)\n",
        "y_test = test_set['close']"
      ],
      "execution_count": 0,
      "outputs": []
    },
    {
      "metadata": {
        "id": "ruIb0FbfkPu2",
        "colab_type": "code",
        "colab": {
          "base_uri": "https://localhost:8080/",
          "height": 139
        },
        "outputId": "39ed158d-8770-46f9-d4a7-226b0fd84217"
      },
      "cell_type": "code",
      "source": [
        "scaler = MinMaxScaler(feature_range=(0, 1))\n",
        "\n",
        "#scaling data\n",
        "x_train_scaled = scaler.fit_transform(x_train)\n",
        "x_train = pd.DataFrame(x_train_scaled)\n",
        "x_test_scaled = scaler.fit_transform(x_test)\n",
        "x_test = pd.DataFrame(x_test_scaled)\n",
        "\n",
        "#using gridsearch to find the best parameter\n",
        "params = {'n_neighbors':[2,3,4,5,6,7,8,9]}\n",
        "knn = neighbors.KNeighborsRegressor()\n",
        "knearest_neighbors_model = GridSearchCV(knn, params, cv=5)\n",
        "\n",
        "#fit the model and make predictions\n",
        "knearest_neighbors_model.fit(x_train,y_train)\n",
        "preds = knearest_neighbors_model.predict(x_test)"
      ],
      "execution_count": 61,
      "outputs": [
        {
          "output_type": "stream",
          "text": [
            "/usr/local/lib/python3.6/dist-packages/sklearn/preprocessing/data.py:334: DataConversionWarning: Data with input dtype bool, int64 were all converted to float64 by MinMaxScaler.\n",
            "  return self.partial_fit(X, y)\n",
            "/usr/local/lib/python3.6/dist-packages/sklearn/preprocessing/data.py:334: DataConversionWarning: Data with input dtype bool, int64 were all converted to float64 by MinMaxScaler.\n",
            "  return self.partial_fit(X, y)\n",
            "/usr/local/lib/python3.6/dist-packages/sklearn/model_selection/_search.py:841: DeprecationWarning: The default of the `iid` parameter will change from True to False in version 0.22 and will be removed in 0.24. This will change numeric results when test-set sizes are unequal.\n",
            "  DeprecationWarning)\n"
          ],
          "name": "stderr"
        }
      ]
    },
    {
      "metadata": {
        "id": "tfKFJMiCl8SL",
        "colab_type": "code",
        "colab": {
          "base_uri": "https://localhost:8080/",
          "height": 34
        },
        "outputId": "9d365c37-cb31-4019-d821-5604d141243d"
      },
      "cell_type": "code",
      "source": [
        "#rmse\n",
        "rms = np.sqrt(np.mean(np.power((np.array(y_test)-np.array(preds)),2)))\n",
        "rms"
      ],
      "execution_count": 62,
      "outputs": [
        {
          "output_type": "execute_result",
          "data": {
            "text/plain": [
              "53.57766745045088"
            ]
          },
          "metadata": {
            "tags": []
          },
          "execution_count": 62
        }
      ]
    },
    {
      "metadata": {
        "id": "T7-kCf1hmFvK",
        "colab_type": "code",
        "colab": {
          "base_uri": "https://localhost:8080/",
          "height": 381
        },
        "outputId": "5868c3a8-ec92-420b-a7d6-c26290bf577c"
      },
      "cell_type": "code",
      "source": [
        "# Plot linear regression results\n",
        "predicted_set = test_set.copy()\n",
        "predicted_set['predictions'] = preds\n",
        "\n",
        "plt.plot(train_set['close'])\n",
        "plt.plot(predicted_set[['close', 'predictions']])"
      ],
      "execution_count": 63,
      "outputs": [
        {
          "output_type": "execute_result",
          "data": {
            "text/plain": [
              "[<matplotlib.lines.Line2D at 0x7f8649e410f0>,\n",
              " <matplotlib.lines.Line2D at 0x7f8649e41278>]"
            ]
          },
          "metadata": {
            "tags": []
          },
          "execution_count": 63
        },
        {
          "output_type": "display_data",
          "data": {
            "image/png": "[encoded data removed]",
            "text/plain": [
              "<Figure size 576x396 with 1 Axes>"
            ]
          },
          "metadata": {
            "tags": []
          }
        }
      ]
    },
    {
      "metadata": {
        "id": "Rf2g6WMToOTX",
        "colab_type": "text"
      },
      "cell_type": "markdown",
      "source": [
        "## Long Short Term Memory (LSTM)\n",
        "\n",
        "\n"
      ]
    },
    {
      "metadata": {
        "id": "w9lnmfBFoN4f",
        "colab_type": "code",
        "colab": {
          "base_uri": "https://localhost:8080/",
          "height": 122
        },
        "outputId": "e4dfbf78-6d09-4b2c-b762-b41fc77118c7"
      },
      "cell_type": "code",
      "source": [
        "# Creating dataframe\n",
        "data = df.sort_index(ascending=True, axis=0)\n",
        "new_data = pd.DataFrame(index=range(0,len(df)),columns=['timestamp', 'close'])\n",
        "for i in range(0,len(data)):\n",
        "    new_data['timestamp'][i] = data['timestamp'][i]\n",
        "    new_data['close'][i] = data['close'][i]\n",
        "\n",
        "# Setting index\n",
        "new_data.index = new_data['timestamp']\n",
        "new_data.drop('timestamp', axis=1, inplace=True)\n",
        "\n",
        "# Creating train and test sets\n",
        "dataset = new_data.values\n",
        "train_set_size = int(len(new_data) * 0.8)\n",
        "\n",
        "train = dataset[0:train_set_size,:]\n",
        "valid = dataset[train_set_size:,:]\n",
        "\n",
        "# Converting dataset into x_train and y_train\n",
        "scaler = MinMaxScaler(feature_range=(0, 1))\n",
        "scaled_data = scaler.fit_transform(dataset)\n",
        "\n",
        "x_train, y_train = [], []\n",
        "for i in range(60,len(train)):\n",
        "    x_train.append(scaled_data[i-60:i,0])\n",
        "    y_train.append(scaled_data[i,0])\n",
        "x_train, y_train = np.array(x_train), np.array(y_train)\n",
        "\n",
        "x_train = np.reshape(x_train, (x_train.shape[0],x_train.shape[1],1))\n",
        "\n",
        "# create and fit the LSTM network\n",
        "model = Sequential()\n",
        "model.add(LSTM(units=50, return_sequences=True, input_shape=(x_train.shape[1],1)))\n",
        "model.add(LSTM(units=50))\n",
        "model.add(Dense(1))\n",
        "\n",
        "model.compile(loss='mean_squared_error', optimizer='adam')\n",
        "model.fit(x_train, y_train, epochs=1, batch_size=1, verbose=2)\n",
        "\n",
        "# predicting the test data, using past 60 from the train data\n",
        "inputs = new_data[len(new_data) - len(valid) - 60:].values\n",
        "inputs = inputs.reshape(-1,1)\n",
        "inputs  = scaler.transform(inputs)\n",
        "\n",
        "X_test = []\n",
        "for i in range(60,inputs.shape[0]):\n",
        "    X_test.append(inputs[i-60:i,0])\n",
        "X_test = np.array(X_test)\n",
        "\n",
        "X_test = np.reshape(X_test, (X_test.shape[0],X_test.shape[1],1))\n",
        "closing_price = model.predict(X_test)\n",
        "closing_price = scaler.inverse_transform(closing_price)"
      ],
      "execution_count": 64,
      "outputs": [
        {
          "output_type": "stream",
          "text": [
            " - 46s - loss: 0.0030\n"
          ],
          "name": "stdout"
        },
        {
          "output_type": "stream",
          "text": [
            "/usr/local/lib/python3.6/dist-packages/sklearn/utils/validation.py:595: DataConversionWarning: Data with input dtype object was converted to float64 by MinMaxScaler.\n",
            "  warnings.warn(msg, DataConversionWarning)\n"
          ],
          "name": "stderr"
        },
        {
          "output_type": "stream",
          "text": [
            "Epoch 1/1\n",
            " - 46s - loss: 0.0031\n"
          ],
          "name": "stdout"
        }
      ]
    },
    {
      "metadata": {
        "id": "yYVRz-l22jxa",
        "colab_type": "code",
        "colab": {
          "base_uri": "https://localhost:8080/",
          "height": 34
        },
        "outputId": "8a9bca29-0d8d-40fe-968e-efbc9cf5e6a5"
      },
      "cell_type": "code",
      "source": [
        "rms=np.sqrt(np.mean(np.power((valid-closing_price),2)))\n",
        "rms"
      ],
      "execution_count": 65,
      "outputs": [
        {
          "output_type": "execute_result",
          "data": {
            "text/plain": [
              "4.721769347427234"
            ]
          },
          "metadata": {
            "tags": []
          },
          "execution_count": 65
        }
      ]
    },
    {
      "metadata": {
        "id": "be9yGG002nL8",
        "colab_type": "code",
        "colab": {
          "base_uri": "https://localhost:8080/",
          "height": 483
        },
        "outputId": "fa842c0a-7395-4e05-83fc-fc0d32387c62"
      },
      "cell_type": "code",
      "source": [
        "#for plotting\n",
        "train_set_size = int(len(new_data) * 0.8)\n",
        "train = new_data[:train_set_size]\n",
        "valid = new_data[train_set_size:]\n",
        "valid['predictions'] = closing_price\n",
        "plt.plot(train['close'])\n",
        "plt.plot(valid[['close','predictions']])"
      ],
      "execution_count": 66,
      "outputs": [
        {
          "output_type": "stream",
          "text": [
            "/usr/local/lib/python3.6/dist-packages/ipykernel_launcher.py:4: SettingWithCopyWarning: \n",
            "A value is trying to be set on a copy of a slice from a DataFrame.\n",
            "Try using .loc[row_indexer,col_indexer] = value instead\n",
            "\n",
            "See the caveats in the documentation: http://pandas.pydata.org/pandas-docs/stable/indexing.html#indexing-view-versus-copy\n",
            "  after removing the cwd from sys.path.\n"
          ],
          "name": "stderr"
        },
        {
          "output_type": "execute_result",
          "data": {
            "text/plain": [
              "[<matplotlib.lines.Line2D at 0x7f8648850400>,\n",
              " <matplotlib.lines.Line2D at 0x7f86488505f8>]"
            ]
          },
          "metadata": {
            "tags": []
          },
          "execution_count": 66
        },
        {
          "output_type": "display_data",
          "data": {
            "image/png": "[encoded data removed]",
            "text/plain": [
              "<Figure size 576x396 with 1 Axes>"
            ]
          },
          "metadata": {
            "tags": []
          }
        }
      ]
    }
  ]
}